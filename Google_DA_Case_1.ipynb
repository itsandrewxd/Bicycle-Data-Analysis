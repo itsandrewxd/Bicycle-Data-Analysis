{
 "cells": [
  {
   "cell_type": "markdown",
   "metadata": {},
   "source": [
    "# Google Data Analytics Case Study: Cyclistic  \n",
    "### Author: Andrew Peters\n",
    "#### Case Study Roadmap: Ask, prepare, process, analyze, share, act"
   ]
  },
  {
   "cell_type": "markdown",
   "metadata": {},
   "source": [
    "# Ask:\n",
    "1. How do annual members and casual riders use Cyclistic bikes differently?\n",
    "2. Why would casual riders buy Cyclistic annual memberships?\n",
    "3. How can Cyclistic use digital media to influence casual riders to become members?\n",
    "\n",
    "Statement: Our goal with this report is to determine the difference between member use and casual use. Why a Cyclistic user might stay a casual rider as opposed to becoming a member. And what can Cyclistic do in terms of social media and marketing to promote the annual membership. In short, how can Cyclistic increase annual membership."
   ]
  },
  {
   "cell_type": "markdown",
   "metadata": {},
   "source": [
    "# Prepare:\n",
    "I will be using the fictional company Cyclistic's historical trip data from 2019 for analysis. \n",
    "\n",
    "(Note: The datasets have a different name because Cyclistic is a fictional company. For the purposes of this case study,\n",
    "the datasets are appropriate and will enable you to answer the business questions. The data has been made available by\n",
    "Motivate International Inc. under this [license](https://ride.divvybikes.com/data-license-agreement).)\n",
    "\n",
    "Fortunately, the provided data meets the Google ROCCC standards.\n",
    "It is reliable, original, comprehensive, current, and cited.\n",
    "\n",
    "The data is available [here] (https://divvy-tripdata.s3.amazonaws.com/index.html)\n",
    "* Divvy_Trips_2019_Q1.zip\n",
    "* Divvy_Trips_2019_Q2.zip\n",
    "* Divvy_Trips_2019_Q3.zip\n",
    "* Divvy_Trips_2019_Q4.zip"
   ]
  },
  {
   "cell_type": "markdown",
   "metadata": {},
   "source": [
    "# Process:\n",
    "### Tools Used:\n",
    "* Python\n",
    "* Pandas\n",
    "\n",
    "With such a large dataset a spreadsheet would not be as efficient as a programming language such as R or Python.\n",
    "I will be using Python and its library pandas.\n",
    "* After gathering relevant data, import pandas and read the quarterly CSV's\n",
    "* To ensure data integrity I started with checking that data types were consistent, along with column names in each dataset.\n",
    "* Seeing that 2019_Q2 had different column names, I renamed them to be consistent with the other quarters.\n",
    "* I then merged the four quarterly data sets into one.\n",
    "* To make double sure data types were consistent through the set, I iterated through each column checking the type.\n",
    "    * Set dates to datetime, most integer fields were strings to begin with.\n",
    "* Then \n"
   ]
  },
  {
   "cell_type": "code",
   "execution_count": 47,
   "metadata": {},
   "outputs": [],
   "source": [
    "#important imports of python libraries\n",
    "import pandas as pd\n",
    "import numpy as np\n",
    "import seaborn as sns\n",
    "import matplotlib.pyplot as plt"
   ]
  },
  {
   "cell_type": "code",
   "execution_count": 2,
   "metadata": {},
   "outputs": [],
   "source": [
    "#import the quarterly csv's \n",
    "Q1 = pd.read_csv('Divvy_Trips_2019_Q1.csv',thousands=',')\n",
    "Q2 = pd.read_csv('Divvy_Trips_2019_Q2.csv',thousands=',')\n",
    "Q3 = pd.read_csv('Divvy_Trips_2019_Q3.csv',thousands=',')\n",
    "Q4 = pd.read_csv('Divvy_Trips_2019_Q4.csv',thousands=',')"
   ]
  },
  {
   "cell_type": "code",
   "execution_count": 3,
   "metadata": {},
   "outputs": [
    {
     "data": {
      "text/plain": [
       "Index(['trip_id', 'start_time', 'end_time', 'bikeid', 'tripduration',\n",
       "       'from_station_id', 'from_station_name', 'to_station_id',\n",
       "       'to_station_name', 'usertype', 'gender', 'birthyear'],\n",
       "      dtype='object')"
      ]
     },
     "execution_count": 3,
     "metadata": {},
     "output_type": "execute_result"
    }
   ],
   "source": [
    "#Rename all of the columns in Q2 df to match Q1,Q3,Q4\n",
    "Q2.rename(columns={'01 - Rental Details Rental ID':'trip_id', '01 - Rental Details Local Start Time':'start_time',\n",
    "                   '01 - Rental Details Local End Time':'end_time', '01 - Rental Details Bike ID':'bikeid',\n",
    "                   '01 - Rental Details Duration In Seconds Uncapped':'tripduration',\n",
    "                   '03 - Rental Start Station ID':'from_station_id', '03 - Rental Start Station Name':'from_station_name',\n",
    "                   '02 - Rental End Station ID': 'to_station_id', '02 - Rental End Station Name': 'to_station_name', \n",
    "                   'User Type' : 'usertype',\n",
    "                   'Member Gender':'gender', '05 - Member Details Member Birthday Year': 'birthyear'},inplace=True)\n",
    "Q2.columns"
   ]
  },
  {
   "cell_type": "code",
   "execution_count": 4,
   "metadata": {},
   "outputs": [
    {
     "data": {
      "text/html": [
       "<div>\n",
       "<style scoped>\n",
       "    .dataframe tbody tr th:only-of-type {\n",
       "        vertical-align: middle;\n",
       "    }\n",
       "\n",
       "    .dataframe tbody tr th {\n",
       "        vertical-align: top;\n",
       "    }\n",
       "\n",
       "    .dataframe thead th {\n",
       "        text-align: right;\n",
       "    }\n",
       "</style>\n",
       "<table border=\"1\" class=\"dataframe\">\n",
       "  <thead>\n",
       "    <tr style=\"text-align: right;\">\n",
       "      <th></th>\n",
       "      <th>trip_id</th>\n",
       "      <th>start_time</th>\n",
       "      <th>end_time</th>\n",
       "      <th>bikeid</th>\n",
       "      <th>tripduration</th>\n",
       "      <th>from_station_id</th>\n",
       "      <th>from_station_name</th>\n",
       "      <th>to_station_id</th>\n",
       "      <th>to_station_name</th>\n",
       "      <th>usertype</th>\n",
       "      <th>gender</th>\n",
       "      <th>birthyear</th>\n",
       "    </tr>\n",
       "  </thead>\n",
       "  <tbody>\n",
       "    <tr>\n",
       "      <th>0</th>\n",
       "      <td>21742443</td>\n",
       "      <td>2019-01-01 00:04:37</td>\n",
       "      <td>2019-01-01 00:11:07</td>\n",
       "      <td>2167</td>\n",
       "      <td>390.0</td>\n",
       "      <td>199</td>\n",
       "      <td>Wabash Ave &amp; Grand Ave</td>\n",
       "      <td>84</td>\n",
       "      <td>Milwaukee Ave &amp; Grand Ave</td>\n",
       "      <td>Subscriber</td>\n",
       "      <td>Male</td>\n",
       "      <td>1989.0</td>\n",
       "    </tr>\n",
       "    <tr>\n",
       "      <th>1</th>\n",
       "      <td>21742444</td>\n",
       "      <td>2019-01-01 00:08:13</td>\n",
       "      <td>2019-01-01 00:15:34</td>\n",
       "      <td>4386</td>\n",
       "      <td>441.0</td>\n",
       "      <td>44</td>\n",
       "      <td>State St &amp; Randolph St</td>\n",
       "      <td>624</td>\n",
       "      <td>Dearborn St &amp; Van Buren St (*)</td>\n",
       "      <td>Subscriber</td>\n",
       "      <td>Female</td>\n",
       "      <td>1990.0</td>\n",
       "    </tr>\n",
       "    <tr>\n",
       "      <th>2</th>\n",
       "      <td>21742445</td>\n",
       "      <td>2019-01-01 00:13:23</td>\n",
       "      <td>2019-01-01 00:27:12</td>\n",
       "      <td>1524</td>\n",
       "      <td>829.0</td>\n",
       "      <td>15</td>\n",
       "      <td>Racine Ave &amp; 18th St</td>\n",
       "      <td>644</td>\n",
       "      <td>Western Ave &amp; Fillmore St (*)</td>\n",
       "      <td>Subscriber</td>\n",
       "      <td>Female</td>\n",
       "      <td>1994.0</td>\n",
       "    </tr>\n",
       "    <tr>\n",
       "      <th>3</th>\n",
       "      <td>21742446</td>\n",
       "      <td>2019-01-01 00:13:45</td>\n",
       "      <td>2019-01-01 00:43:28</td>\n",
       "      <td>252</td>\n",
       "      <td>1783.0</td>\n",
       "      <td>123</td>\n",
       "      <td>California Ave &amp; Milwaukee Ave</td>\n",
       "      <td>176</td>\n",
       "      <td>Clark St &amp; Elm St</td>\n",
       "      <td>Subscriber</td>\n",
       "      <td>Male</td>\n",
       "      <td>1993.0</td>\n",
       "    </tr>\n",
       "    <tr>\n",
       "      <th>4</th>\n",
       "      <td>21742447</td>\n",
       "      <td>2019-01-01 00:14:52</td>\n",
       "      <td>2019-01-01 00:20:56</td>\n",
       "      <td>1170</td>\n",
       "      <td>364.0</td>\n",
       "      <td>173</td>\n",
       "      <td>Mies van der Rohe Way &amp; Chicago Ave</td>\n",
       "      <td>35</td>\n",
       "      <td>Streeter Dr &amp; Grand Ave</td>\n",
       "      <td>Subscriber</td>\n",
       "      <td>Male</td>\n",
       "      <td>1994.0</td>\n",
       "    </tr>\n",
       "  </tbody>\n",
       "</table>\n",
       "</div>"
      ],
      "text/plain": [
       "    trip_id           start_time             end_time  bikeid  tripduration  \\\n",
       "0  21742443  2019-01-01 00:04:37  2019-01-01 00:11:07    2167         390.0   \n",
       "1  21742444  2019-01-01 00:08:13  2019-01-01 00:15:34    4386         441.0   \n",
       "2  21742445  2019-01-01 00:13:23  2019-01-01 00:27:12    1524         829.0   \n",
       "3  21742446  2019-01-01 00:13:45  2019-01-01 00:43:28     252        1783.0   \n",
       "4  21742447  2019-01-01 00:14:52  2019-01-01 00:20:56    1170         364.0   \n",
       "\n",
       "   from_station_id                    from_station_name  to_station_id  \\\n",
       "0              199               Wabash Ave & Grand Ave             84   \n",
       "1               44               State St & Randolph St            624   \n",
       "2               15                 Racine Ave & 18th St            644   \n",
       "3              123       California Ave & Milwaukee Ave            176   \n",
       "4              173  Mies van der Rohe Way & Chicago Ave             35   \n",
       "\n",
       "                  to_station_name    usertype  gender  birthyear  \n",
       "0       Milwaukee Ave & Grand Ave  Subscriber    Male     1989.0  \n",
       "1  Dearborn St & Van Buren St (*)  Subscriber  Female     1990.0  \n",
       "2   Western Ave & Fillmore St (*)  Subscriber  Female     1994.0  \n",
       "3               Clark St & Elm St  Subscriber    Male     1993.0  \n",
       "4         Streeter Dr & Grand Ave  Subscriber    Male     1994.0  "
      ]
     },
     "execution_count": 4,
     "metadata": {},
     "output_type": "execute_result"
    }
   ],
   "source": [
    "#Now that the columns are named correctly we can combine them all into one dataframe.\n",
    "data = pd.concat([Q1,Q2,Q3,Q4])\n",
    "data.head()"
   ]
  },
  {
   "cell_type": "code",
   "execution_count": null,
   "metadata": {},
   "outputs": [],
   "source": []
  },
  {
   "cell_type": "code",
   "execution_count": 60,
   "metadata": {},
   "outputs": [
    {
     "data": {
      "text/plain": [
       "(3769345, 15)"
      ]
     },
     "execution_count": 60,
     "metadata": {},
     "output_type": "execute_result"
    }
   ],
   "source": [
    "#Convert datatypes\n",
    "data['bikeid'] = pd.to_numeric(data['bikeid'])\n",
    "data['start_time'] = pd.to_datetime(data['start_time'])\n",
    "data['end_time' ]= pd.to_datetime(data['end_time'])\n",
    "data['tripduration'] = pd.to_numeric(data['tripduration'])\n",
    "\n",
    "#Add day of the week column\n",
    "data['day_of_week']= data['start_time'].dt.dayofweek\n",
    "\n",
    "#Adding a month column\n",
    "data['month'] = data['start_time'].dt.month\n",
    "\n",
    "#Age column\n",
    "data['age'] = data['birthyear'].apply(lambda x: 2019 - x)\n",
    "data.shape"
   ]
  },
  {
   "cell_type": "code",
   "execution_count": 6,
   "metadata": {},
   "outputs": [
    {
     "name": "stdout",
     "output_type": "stream",
     "text": [
      "int64\n",
      "datetime64[ns]\n",
      "datetime64[ns]\n",
      "int64\n",
      "float64\n",
      "int64\n",
      "object\n",
      "int64\n",
      "object\n",
      "object\n",
      "object\n",
      "float64\n",
      "int64\n",
      "int64\n",
      "float64\n"
     ]
    }
   ],
   "source": [
    "#Check that columns are the same data types.\n",
    "for col_name, values in data.items():\n",
    "    print(data[col_name].dtypes)"
   ]
  },
  {
   "cell_type": "code",
   "execution_count": 7,
   "metadata": {},
   "outputs": [
    {
     "name": "stdout",
     "output_type": "stream",
     "text": [
      "['Subscriber' 'Customer'] ['Male' 'Female' nan] 640 641 616 617\n"
     ]
    }
   ],
   "source": [
    "# finding unique values in each column\n",
    "n = pd.unique(data.usertype)\n",
    "m = pd.unique(data.gender)\n",
    "o = len(pd.unique(data.from_station_name))\n",
    "p = len(pd.unique(data.to_station_name))\n",
    "q = len(pd.unique(data.to_station_id))\n",
    "r = len(pd.unique(data.from_station_id))\n",
    "print(n,m,o,p,r,q)\n"
   ]
  },
  {
   "cell_type": "markdown",
   "metadata": {},
   "source": [
    "# Analyze:\n",
    "Now that the data has been put combined into one large set, the data types have been cast, and formatting is correct, analysis can begin.\n",
    "* Number of Subscribers and normal Customers\n",
    "    * Subscriber:     2909602\n",
    "    * Customer:       859743\n",
    "* Pivot tables\n",
    "* Average ride length in minutes\n",
    "    * Nearly 18 minutes\n",
    "* Max/Min ride length in minutes\n",
    "    * Longest: Almost 3 hours\n",
    "    * Shortest: 1 minute\n",
    "* Average ride length for Subscribers\n",
    "    * 12.5 minutes\n",
    "* Average ride length for non-Subscribers\n",
    "    * 34.75 minutes\n",
    "* Most common day of the week for riding\n",
    "    * Wednesday\n",
    "* Most popular season\n",
    "    * Summer\n"
   ]
  },
  {
   "cell_type": "code",
   "execution_count": 8,
   "metadata": {},
   "outputs": [
    {
     "name": "stdout",
     "output_type": "stream",
     "text": [
      "Subscriber    2937367\n",
      "Customer       880637\n",
      "Name: usertype, dtype: int64\n"
     ]
    }
   ],
   "source": [
    "#How many of each membership type?\n",
    "num_of_members = data['usertype'].value_counts()\n",
    "print(num_of_members)"
   ]
  },
  {
   "cell_type": "code",
   "execution_count": 9,
   "metadata": {},
   "outputs": [
    {
     "name": "stdout",
     "output_type": "stream",
     "text": [
      "0    3\n",
      "dtype: int64\n"
     ]
    }
   ],
   "source": [
    "# Mode day of the week Monday = 0, Sunday = 6\n",
    "mode_day_of_week = data['day_of_week'].mode()\n",
    "print(mode_day_of_week) # Wednesday"
   ]
  },
  {
   "cell_type": "code",
   "execution_count": 10,
   "metadata": {},
   "outputs": [],
   "source": [
    "#Dropping outliers where tripduration was in the thousands of hours\n",
    "indx = data.query('tripduration >= 10000')\n",
    "data.drop(index=indx.index, inplace = True)"
   ]
  },
  {
   "cell_type": "code",
   "execution_count": 11,
   "metadata": {},
   "outputs": [
    {
     "name": "stdout",
     "output_type": "stream",
     "text": [
      " 17.61 minutes\n"
     ]
    }
   ],
   "source": [
    "#Average ride Length in minutes\n",
    "average_ride_len = data.tripduration.mean()\n",
    "print(f'{average_ride_len/60 : .2f}', \"minutes\")"
   ]
  },
  {
   "cell_type": "code",
   "execution_count": 12,
   "metadata": {},
   "outputs": [
    {
     "name": "stdout",
     "output_type": "stream",
     "text": [
      "Longest ride duration:  166.65 minutes \n",
      "Shortest ride duration:   1.02 minutes\n"
     ]
    }
   ],
   "source": [
    "#Longest and shortest rides in minutes between both casual and annual members\n",
    "max_ride_len = data.tripduration.max()\n",
    "min_ride_len = data.tripduration.min()\n",
    "\n",
    "print(\"Longest ride duration:\", f'{max_ride_len/60 : .2f}', \"minutes\",\n",
    "\"\\nShortest ride duration: \",f'{min_ride_len/60 : .2f}',\"minutes\")"
   ]
  },
  {
   "cell_type": "code",
   "execution_count": 13,
   "metadata": {},
   "outputs": [
    {
     "data": {
      "text/html": [
       "<div>\n",
       "<style scoped>\n",
       "    .dataframe tbody tr th:only-of-type {\n",
       "        vertical-align: middle;\n",
       "    }\n",
       "\n",
       "    .dataframe tbody tr th {\n",
       "        vertical-align: top;\n",
       "    }\n",
       "\n",
       "    .dataframe thead th {\n",
       "        text-align: right;\n",
       "    }\n",
       "</style>\n",
       "<table border=\"1\" class=\"dataframe\">\n",
       "  <thead>\n",
       "    <tr style=\"text-align: right;\">\n",
       "      <th></th>\n",
       "      <th>tripduration</th>\n",
       "    </tr>\n",
       "    <tr>\n",
       "      <th>usertype</th>\n",
       "      <th></th>\n",
       "    </tr>\n",
       "  </thead>\n",
       "  <tbody>\n",
       "    <tr>\n",
       "      <th>Customer</th>\n",
       "      <td>2086.196782</td>\n",
       "    </tr>\n",
       "    <tr>\n",
       "      <th>Subscriber</th>\n",
       "      <td>752.548051</td>\n",
       "    </tr>\n",
       "  </tbody>\n",
       "</table>\n",
       "</div>"
      ],
      "text/plain": [
       "            tripduration\n",
       "usertype                \n",
       "Customer     2086.196782\n",
       "Subscriber    752.548051"
      ]
     },
     "execution_count": 13,
     "metadata": {},
     "output_type": "execute_result"
    }
   ],
   "source": [
    "# Pivot Table showing average trip duration in seconds by customer type\n",
    "data.pivot_table(index='usertype',values='tripduration',aggfunc='mean')"
   ]
  },
  {
   "cell_type": "code",
   "execution_count": 76,
   "metadata": {},
   "outputs": [
    {
     "data": {
      "text/html": [
       "<div>\n",
       "<style scoped>\n",
       "    .dataframe tbody tr th:only-of-type {\n",
       "        vertical-align: middle;\n",
       "    }\n",
       "\n",
       "    .dataframe tbody tr th {\n",
       "        vertical-align: top;\n",
       "    }\n",
       "\n",
       "    .dataframe thead th {\n",
       "        text-align: right;\n",
       "    }\n",
       "</style>\n",
       "<table border=\"1\" class=\"dataframe\">\n",
       "  <thead>\n",
       "    <tr style=\"text-align: right;\">\n",
       "      <th>day_of_week</th>\n",
       "      <th>0</th>\n",
       "      <th>1</th>\n",
       "      <th>2</th>\n",
       "      <th>3</th>\n",
       "      <th>4</th>\n",
       "      <th>5</th>\n",
       "      <th>6</th>\n",
       "    </tr>\n",
       "    <tr>\n",
       "      <th>usertype</th>\n",
       "      <th></th>\n",
       "      <th></th>\n",
       "      <th></th>\n",
       "      <th></th>\n",
       "      <th></th>\n",
       "      <th></th>\n",
       "      <th></th>\n",
       "    </tr>\n",
       "  </thead>\n",
       "  <tbody>\n",
       "    <tr>\n",
       "      <th>Customer</th>\n",
       "      <td>34.971126</td>\n",
       "      <td>32.662445</td>\n",
       "      <td>32.186216</td>\n",
       "      <td>32.439812</td>\n",
       "      <td>33.833673</td>\n",
       "      <td>37.064042</td>\n",
       "      <td>36.359816</td>\n",
       "    </tr>\n",
       "    <tr>\n",
       "      <th>Subscriber</th>\n",
       "      <td>12.274689</td>\n",
       "      <td>12.238297</td>\n",
       "      <td>12.275701</td>\n",
       "      <td>12.264376</td>\n",
       "      <td>12.163282</td>\n",
       "      <td>13.923410</td>\n",
       "      <td>13.781697</td>\n",
       "    </tr>\n",
       "  </tbody>\n",
       "</table>\n",
       "</div>"
      ],
      "text/plain": [
       "day_of_week          0          1          2          3          4          5  \\\n",
       "usertype                                                                        \n",
       "Customer     34.971126  32.662445  32.186216  32.439812  33.833673  37.064042   \n",
       "Subscriber   12.274689  12.238297  12.275701  12.264376  12.163282  13.923410   \n",
       "\n",
       "day_of_week          6  \n",
       "usertype                \n",
       "Customer     36.359816  \n",
       "Subscriber   13.781697  "
      ]
     },
     "execution_count": 76,
     "metadata": {},
     "output_type": "execute_result"
    }
   ],
   "source": [
    "# Pivot table showing average ride length for users by day of the week in seconds\n",
    "avg_ride_length_table = data.pivot_table(index='usertype',columns='day_of_week',\n",
    "                 values='tripduration',aggfunc='mean')\n",
    "\n",
    "# Pivot table in minutes\n",
    "avg_ride_length_table/60"
   ]
  },
  {
   "cell_type": "code",
   "execution_count": 86,
   "metadata": {},
   "outputs": [
    {
     "data": {
      "text/html": [
       "<div>\n",
       "<style scoped>\n",
       "    .dataframe tbody tr th:only-of-type {\n",
       "        vertical-align: middle;\n",
       "    }\n",
       "\n",
       "    .dataframe tbody tr th {\n",
       "        vertical-align: top;\n",
       "    }\n",
       "\n",
       "    .dataframe thead th {\n",
       "        text-align: right;\n",
       "    }\n",
       "</style>\n",
       "<table border=\"1\" class=\"dataframe\">\n",
       "  <thead>\n",
       "    <tr style=\"text-align: right;\">\n",
       "      <th>day_of_week</th>\n",
       "      <th>0</th>\n",
       "      <th>1</th>\n",
       "      <th>2</th>\n",
       "      <th>3</th>\n",
       "      <th>4</th>\n",
       "      <th>5</th>\n",
       "      <th>6</th>\n",
       "    </tr>\n",
       "    <tr>\n",
       "      <th>usertype</th>\n",
       "      <th></th>\n",
       "      <th></th>\n",
       "      <th></th>\n",
       "      <th></th>\n",
       "      <th></th>\n",
       "      <th></th>\n",
       "      <th></th>\n",
       "    </tr>\n",
       "  </thead>\n",
       "  <tbody>\n",
       "    <tr>\n",
       "      <th>Customer</th>\n",
       "      <td>99103</td>\n",
       "      <td>86552</td>\n",
       "      <td>87615</td>\n",
       "      <td>98926</td>\n",
       "      <td>118321</td>\n",
       "      <td>203223</td>\n",
       "      <td>166003</td>\n",
       "    </tr>\n",
       "    <tr>\n",
       "      <th>Subscriber</th>\n",
       "      <td>454327</td>\n",
       "      <td>492389</td>\n",
       "      <td>489273</td>\n",
       "      <td>482306</td>\n",
       "      <td>452738</td>\n",
       "      <td>284642</td>\n",
       "      <td>253927</td>\n",
       "    </tr>\n",
       "  </tbody>\n",
       "</table>\n",
       "</div>"
      ],
      "text/plain": [
       "day_of_week       0       1       2       3       4       5       6\n",
       "usertype                                                           \n",
       "Customer      99103   86552   87615   98926  118321  203223  166003\n",
       "Subscriber   454327  492389  489273  482306  452738  284642  253927"
      ]
     },
     "execution_count": 86,
     "metadata": {},
     "output_type": "execute_result"
    }
   ],
   "source": [
    "data.pivot_table(index='usertype', columns='day_of_week',\n",
    "                                       values='trip_id', aggfunc='count')\n"
   ]
  },
  {
   "cell_type": "code",
   "execution_count": 15,
   "metadata": {},
   "outputs": [
    {
     "data": {
      "text/html": [
       "<div>\n",
       "<style scoped>\n",
       "    .dataframe tbody tr th:only-of-type {\n",
       "        vertical-align: middle;\n",
       "    }\n",
       "\n",
       "    .dataframe tbody tr th {\n",
       "        vertical-align: top;\n",
       "    }\n",
       "\n",
       "    .dataframe thead th {\n",
       "        text-align: right;\n",
       "    }\n",
       "</style>\n",
       "<table border=\"1\" class=\"dataframe\">\n",
       "  <thead>\n",
       "    <tr style=\"text-align: right;\">\n",
       "      <th>month</th>\n",
       "      <th>1</th>\n",
       "      <th>2</th>\n",
       "      <th>3</th>\n",
       "      <th>4</th>\n",
       "      <th>5</th>\n",
       "      <th>6</th>\n",
       "      <th>7</th>\n",
       "      <th>8</th>\n",
       "      <th>9</th>\n",
       "      <th>10</th>\n",
       "      <th>11</th>\n",
       "      <th>12</th>\n",
       "    </tr>\n",
       "    <tr>\n",
       "      <th>usertype</th>\n",
       "      <th></th>\n",
       "      <th></th>\n",
       "      <th></th>\n",
       "      <th></th>\n",
       "      <th></th>\n",
       "      <th></th>\n",
       "      <th></th>\n",
       "      <th></th>\n",
       "      <th></th>\n",
       "      <th></th>\n",
       "      <th></th>\n",
       "      <th></th>\n",
       "    </tr>\n",
       "  </thead>\n",
       "  <tbody>\n",
       "    <tr>\n",
       "      <th>Customer</th>\n",
       "      <td>4485</td>\n",
       "      <td>2555</td>\n",
       "      <td>15488</td>\n",
       "      <td>46496</td>\n",
       "      <td>79582</td>\n",
       "      <td>127326</td>\n",
       "      <td>171133</td>\n",
       "      <td>182539</td>\n",
       "      <td>127148</td>\n",
       "      <td>68972</td>\n",
       "      <td>18120</td>\n",
       "      <td>15899</td>\n",
       "    </tr>\n",
       "    <tr>\n",
       "      <th>Subscriber</th>\n",
       "      <td>97022</td>\n",
       "      <td>92142</td>\n",
       "      <td>147637</td>\n",
       "      <td>214519</td>\n",
       "      <td>282754</td>\n",
       "      <td>342518</td>\n",
       "      <td>377879</td>\n",
       "      <td>400649</td>\n",
       "      <td>363810</td>\n",
       "      <td>296982</td>\n",
       "      <td>156726</td>\n",
       "      <td>136964</td>\n",
       "    </tr>\n",
       "  </tbody>\n",
       "</table>\n",
       "</div>"
      ],
      "text/plain": [
       "month          1      2       3       4       5       6       7       8   \\\n",
       "usertype                                                                   \n",
       "Customer     4485   2555   15488   46496   79582  127326  171133  182539   \n",
       "Subscriber  97022  92142  147637  214519  282754  342518  377879  400649   \n",
       "\n",
       "month           9       10      11      12  \n",
       "usertype                                    \n",
       "Customer    127148   68972   18120   15899  \n",
       "Subscriber  363810  296982  156726  136964  "
      ]
     },
     "execution_count": 15,
     "metadata": {},
     "output_type": "execute_result"
    }
   ],
   "source": [
    "#Pivot table showing rentals per month\n",
    "data.pivot_table(index='usertype',columns='month',values='trip_id', aggfunc='count')"
   ]
  },
  {
   "cell_type": "code",
   "execution_count": 42,
   "metadata": {},
   "outputs": [
    {
     "name": "stdout",
     "output_type": "stream",
     "text": [
      "usertype\n",
      "Customer      34.769946\n",
      "Subscriber    12.542468\n",
      "Name: tripduration, dtype: float64\n"
     ]
    }
   ],
   "source": [
    "#What was the average ride length of both casual and members in minutes?\n",
    "riders = data.groupby('usertype')['tripduration'].mean()\n",
    "print(riders/60)"
   ]
  },
  {
   "cell_type": "code",
   "execution_count": 17,
   "metadata": {},
   "outputs": [
    {
     "name": "stdout",
     "output_type": "stream",
     "text": [
      "usertype\n",
      "Customer      30.929120\n",
      "Subscriber    35.395264\n",
      "Name: age, dtype: float64 usertype\n",
      "Customer      260.0\n",
      "Subscriber    131.0\n",
      "Name: age, dtype: float64 usertype\n",
      "Customer      16.0\n",
      "Subscriber     5.0\n",
      "Name: age, dtype: float64 usertype\n",
      "Customer      25.0\n",
      "Subscriber    27.0\n",
      "Name: age, dtype: float64\n"
     ]
    }
   ],
   "source": [
    "# What is the average,min,max,mode age for rider\n",
    "age_avg = data.groupby('usertype')['age'].mean()\n",
    "age_min = data.groupby('usertype')['age'].min()\n",
    "age_max = data.groupby('usertype')['age'].max()\n",
    "age_mode = data.groupby('usertype')['age'].agg(pd.Series.mode)\n",
    "print(age_avg,age_max,age_min,age_mode)"
   ]
  },
  {
   "cell_type": "code",
   "execution_count": 46,
   "metadata": {},
   "outputs": [
    {
     "name": "stdout",
     "output_type": "stream",
     "text": [
      "Top 10 occurrences for Customer:\n",
      "from_station_id  to_station_id\n",
      "76               35               9213\n",
      "35               35               8387\n",
      "76               76               7890\n",
      "85               85               4845\n",
      "3                35               3485\n",
      "35               90               3108\n",
      "                 76               2848\n",
      "90               35               2833\n",
      "                 90               2824\n",
      "6                35               2510\n",
      "Name: Customer, dtype: int64\n",
      "\n",
      "Top 10 occurrences for Subscriber:\n",
      "from_station_id  to_station_id\n",
      "192              43               3496\n",
      "43               91               2755\n",
      "195              91               2614\n",
      "43               192              2518\n",
      "174              43               2310\n",
      "91               43               2213\n",
      "195              44               2164\n",
      "18               43               2099\n",
      "195              192              2099\n",
      "237              148              1986\n",
      "Name: Subscriber, dtype: int64\n",
      "\n"
     ]
    }
   ],
   "source": [
    "#Checking how often Customers and Subscribers use the same stations from start to end\n",
    "# Group the original DataFrame by usertype and the two station IDs\n",
    "grouped_data = data.groupby(['usertype', 'from_station_id', 'to_station_id'])['trip_id'].count().reset_index()\n",
    "\n",
    "# Pivot the result\n",
    "pivot_table = grouped_data.pivot_table(values='trip_id', index=['from_station_id', 'to_station_id'], columns='usertype', fill_value=0)\n",
    "\n",
    "# Sort the pivot table by the total number of trips in descending order\n",
    "sorted_pivot = pivot_table.sum(axis=1).sort_values(ascending=False).index\n",
    "pivot_table = pivot_table.loc[sorted_pivot]\n",
    "\n",
    "# Display the top 10 occurrences for each user type\n",
    "for usertype in pivot_table.columns:\n",
    "    print(f\"Top 10 occurrences for {usertype}:\")\n",
    "    top_occurrences = pivot_table[usertype].nlargest(10)\n",
    "    print(top_occurrences)\n",
    "    print()"
   ]
  },
  {
   "cell_type": "markdown",
   "metadata": {},
   "source": [
    "# Share:\n",
    "### Key tasks \n",
    "    * Create effective visualizations\n",
    "    * Present findings\n",
    "    * Ensure accessibility"
   ]
  },
  {
   "cell_type": "code",
   "execution_count": 84,
   "metadata": {},
   "outputs": [
    {
     "data": {
      "image/png": "[encoded data removed]",
      "text/plain": [
       "<Figure size 576x432 with 1 Axes>"
      ]
     },
     "metadata": {},
     "output_type": "display_data"
    }
   ],
   "source": [
    "num_of_members = data['usertype'].value_counts()\n",
    "\n",
    "sns.set_style(\"whitegrid\")\n",
    "fig, ax = plt.subplots(figsize=(8, 6))\n",
    "sns.barplot(x=num_of_members.index, y=num_of_members.values, palette=\"Set1\", ax=ax)\n",
    "ax.set_title(\"Number of Each Membership Type\")\n",
    "ax.set_xlabel(\"Membership Type\")\n",
    "ax.set_ylabel(\"Number of Riders\")\n",
    "plt.show()"
   ]
  },
  {
   "cell_type": "markdown",
   "metadata": {},
   "source": [
    "### From the heatmap below we can determine\n",
    "* Subscribers are much more likely to make trips between different stations\n",
    "* Customers tend to rent a bike and return it to the same station"
   ]
  },
  {
   "cell_type": "code",
   "execution_count": 54,
   "metadata": {},
   "outputs": [
    {
     "data": {
      "image/png": "[encoded data removed]",
      "text/plain": [
       "<Figure size 864x576 with 2 Axes>"
      ]
     },
     "metadata": {},
     "output_type": "display_data"
    }
   ],
   "source": [
    "# Set the plot style\n",
    "sns.set_style('whitegrid')\n",
    "\n",
    "# Create the heatmap\n",
    "fig, ax = plt.subplots(figsize=(12, 8))\n",
    "sns.heatmap(pivot_table.head(20), cmap='YlGnBu', annot=True, fmt='d', cbar_kws={'label': 'Number of trips'}, ax=ax)\n",
    "\n",
    "# Set the plot title and axis labels\n",
    "ax.set_title('Most common trip combinations by user type')\n",
    "ax.set_xlabel('User type')\n",
    "ax.set_ylabel('From-to station combination')\n",
    "\n",
    "# Rotate the x-axis tick labels for better readability\n",
    "plt.xticks(rotation=45)\n",
    "\n",
    "# Show the plot\n",
    "plt.show()"
   ]
  },
  {
   "cell_type": "markdown",
   "metadata": {},
   "source": [
    "### From the bar graph below we see the average ride length by User type\n",
    "*  On average Subscriber ride length is around 13 minutes \n",
    "*  On average Customers ride length is more than double Subscriber ride length at 35 minutes"
   ]
  },
  {
   "cell_type": "code",
   "execution_count": 61,
   "metadata": {},
   "outputs": [
    {
     "data": {
      "image/png": "[encoded data removed]",
      "text/plain": [
       "<Figure size 576x432 with 1 Axes>"
      ]
     },
     "metadata": {},
     "output_type": "display_data"
    }
   ],
   "source": [
    "# Calculate the average ride length in minutes for each user type\n",
    "riders = data.groupby('usertype')['tripduration'].mean() / 60\n",
    "\n",
    "# Create a bar chart of the ride lengths\n",
    "fig, ax = plt.subplots(figsize=(8, 6))\n",
    "x = riders.index\n",
    "bar_width = 0.4\n",
    "\n",
    "ax.bar(x, riders.values, width=bar_width)\n",
    "\n",
    "# Add axis labels and title\n",
    "ax.set_xlabel('User type')\n",
    "ax.set_ylabel('Average ride length (minutes)')\n",
    "ax.set_title('Average ride length by user type')\n",
    "\n",
    "# Display the plot\n",
    "plt.show()"
   ]
  },
  {
   "cell_type": "markdown",
   "metadata": {},
   "source": [
    "### The heat map shows bike rentals by month\n",
    "* Summer months are more popular for both User Types"
   ]
  },
  {
   "cell_type": "code",
   "execution_count": 73,
   "metadata": {},
   "outputs": [
    {
     "data": {
      "image/png": "[encoded data removed]",
      "text/plain": [
       "<Figure size 864x432 with 1 Axes>"
      ]
     },
     "metadata": {},
     "output_type": "display_data"
    }
   ],
   "source": [
    "\n",
    "# Create a dictionary to map month numbers to names\n",
    "month_names = {1: 'January', 2: 'February', 3: 'March', 4: 'April', 5: 'May', 6: 'June', 7: 'July', 8: 'August', 9: 'September', 10: 'October', 11: 'November', 12: 'December'}\n",
    "\n",
    "\n",
    "# Create the pivot table\n",
    "rentals_per_month = data.pivot_table(index='usertype', columns='month', values='trip_id', aggfunc='count')\n",
    "\n",
    "# Create the heatmap\n",
    "fig, ax = plt.subplots(figsize=(12, 6))\n",
    "sns.heatmap(rentals_per_month, cmap='Blues', annot=True, fmt='d', cbar=False, annot_kws={'fontsize':8})\n",
    "\n",
    "# Set the x-axis tick labels to be the month names\n",
    "ax.set_xticklabels(list(month_names.values()), rotation=45, ha='right')\n",
    "\n",
    "# Add axis labels and title\n",
    "ax.set_xlabel('Month')\n",
    "ax.set_ylabel('User type')\n",
    "ax.set_title('Rentals per month by user type')\n",
    "\n",
    "# Display the plot\n",
    "plt.show()"
   ]
  },
  {
   "cell_type": "markdown",
   "metadata": {},
   "source": [
    "### This line chart shows the average ride lengt on each day of the week\n",
    "* Customers are more likely to ride longer on the weekends\n",
    "* Subscribers average the same ride time for weekdays\n",
    "* Subscribers average longer rides on weekends"
   ]
  },
  {
   "cell_type": "code",
   "execution_count": 82,
   "metadata": {},
   "outputs": [
    {
     "data": {
      "image/png": "[encoded data removed]",
      "text/plain": [
       "<Figure size 432x288 with 1 Axes>"
      ]
     },
     "metadata": {},
     "output_type": "display_data"
    }
   ],
   "source": [
    "# Create the pivot table with average ride length in minutes\n",
    "avg_ride_length_table = data.pivot_table(index='usertype', columns='day_of_week', values='tripduration', aggfunc='mean')/60\n",
    "\n",
    "# Create a line plot for each user type\n",
    "for user_type in avg_ride_length_table.index:\n",
    "    plt.plot(avg_ride_length_table.loc[user_type], label=user_type)\n",
    "    \n",
    "# Change the x-axis labels\n",
    "plt.xticks(range(7), ['Monday', 'Tuesday', 'Wednesday', 'Thursday', 'Friday',\n",
    "                      'Saturday', 'Sunday'])\n",
    "\n",
    "# Set the plot title and axis labels\n",
    "plt.title('Average Ride Length by User Type and Day of the Week')\n",
    "plt.xlabel('Day of the Week')\n",
    "plt.ylabel('Average Ride Length (Minutes)')\n",
    "\n",
    "# Add a legend\n",
    "plt.legend()\n",
    "\n",
    "# Show the plot\n",
    "plt.show()"
   ]
  },
  {
   "cell_type": "markdown",
   "metadata": {},
   "source": [
    "### This line chart shows the number of rides per day of the week\n",
    "* Subscribers use bikes significantly more on weekdays\n",
    "* Customers use bike significantly more on weekends"
   ]
  },
  {
   "cell_type": "code",
   "execution_count": 90,
   "metadata": {},
   "outputs": [
    {
     "data": {
      "image/png": "[encoded data removed]",
      "text/plain": [
       "<Figure size 432x288 with 1 Axes>"
      ]
     },
     "metadata": {},
     "output_type": "display_data"
    }
   ],
   "source": [
    "# Pivot table showing number of rides for users by day of the week\n",
    "num_rides_table = data.pivot_table(index='usertype',columns='day_of_week',\n",
    "                                   values='trip_id',aggfunc='count')\n",
    "\n",
    "# Create a line chart\n",
    "num_rides_table.T.plot(kind='line')\n",
    "\n",
    "# Change the x-axis labels\n",
    "plt.xticks(range(7), ['Monday', 'Tuesday', 'Wednesday', 'Thursday', 'Friday',\n",
    "                      'Saturday', 'Sunday'])\n",
    "\n",
    "# Set the chart title and axis labels\n",
    "plt.title('Number of Rides by Day of the Week')\n",
    "plt.xlabel('Day of the Week')\n",
    "plt.ylabel('Number of Rides')\n",
    "\n",
    "# Show the chart\n",
    "plt.show()"
   ]
  },
  {
   "cell_type": "markdown",
   "metadata": {},
   "source": [
    "# Act:\n",
    "\n",
    "Based on the findings, there are several recommendations that the marketing team could consider to maximize subscribers, especially converting casual riders to annual subscribers:\n",
    "\n",
    "* Offer promotions to casual riders to encourage them to become subscribers. For example, provide discounts on annual subscriptions, or offer a free month trial to entice them to commit to a membership.\n",
    "\n",
    "* Increase marketing efforts during the summer months when bike rentals are more popular. This can include targeted ads on digital media platforms, such as social media and Google Ads, as well as collaborations with popular tourism websites or travel bloggers to increase brand awareness.\n",
    "\n",
    "* Offer incentives to encourage subscribers to ride more on weekends, such as bonus points or discounts on future rentals for weekend rides.\n",
    "\n",
    "* Emphasize the convenience of returning the bike to the station it was rented from, as this is a preference for many customers. This could be promoted through targeted social media ads or through email marketing campaigns.\n",
    "\n",
    "In addition to these recommendations, it is important to consider why casual riders would buy a membership. One reason is that the cost per ride is much lower with a membership compared to individual rentals, making it a cost-effective option for frequent riders. Additionally, subscribers have access to benefits such as faster checkouts and free rentals after a certain number of rides, which can be appealing to riders who use the service frequently.\n",
    "\n",
    "Overall, by targeting digital media marketing efforts, providing incentives for weekend rides, and emphasizing the benefits of a membership, the company can increase its number of subscribers and overall revenue.\n",
    "    \n"
   ]
  },
  {
   "cell_type": "code",
   "execution_count": null,
   "metadata": {},
   "outputs": [],
   "source": []
  }
 ],
 "metadata": {
  "kernelspec": {
   "display_name": "Python 3",
   "language": "python",
   "name": "python3"
  },
  "language_info": {
   "codemirror_mode": {
    "name": "ipython",
    "version": 3
   },
   "file_extension": ".py",
   "mimetype": "text/x-python",
   "name": "python",
   "nbconvert_exporter": "python",
   "pygments_lexer": "ipython3",
   "version": "3.7.6"
  },
  "varInspector": {
   "cols": {
    "lenName": 16,
    "lenType": 16,
    "lenVar": 40
   },
   "kernels_config": {
    "python": {
     "delete_cmd_postfix": "",
     "delete_cmd_prefix": "del ",
     "library": "var_list.py",
     "varRefreshCmd": "print(var_dic_list())"
    },
    "r": {
     "delete_cmd_postfix": ") ",
     "delete_cmd_prefix": "rm(",
     "library": "var_list.r",
     "varRefreshCmd": "cat(var_dic_list()) "
    }
   },
   "types_to_exclude": [
    "module",
    "function",
    "builtin_function_or_method",
    "instance",
    "_Feature"
   ],
   "window_display": false
  }
 },
 "nbformat": 4,
 "nbformat_minor": 4
}
